{
 "cells": [
  {
   "cell_type": "code",
   "execution_count": 8,
   "id": "c3a3ab8b",
   "metadata": {},
   "outputs": [
    {
     "name": "stdout",
     "output_type": "stream",
     "text": [
      "Database connected successfully\n"
     ]
    }
   ],
   "source": [
    "import pandas as pd\n",
    "import matplotlib.pyplot as plt\n",
    "import seaborn as sns\n",
    "from scripts.Db_connection import  connect_to_db"
   ]
  },
  {
   "cell_type": "markdown",
   "id": "432f6340",
   "metadata": {},
   "source": [
    "connecting to the database"
   ]
  },
  {
   "cell_type": "code",
   "execution_count": 9,
   "id": "2a4fb165",
   "metadata": {},
   "outputs": [
    {
     "name": "stdout",
     "output_type": "stream",
     "text": [
      "Database connected successfully\n"
     ]
    },
    {
     "name": "stderr",
     "output_type": "stream",
     "text": [
      "/var/folders/n4/q2b10gpj67vbtksnhf6prgv00000gn/T/ipykernel_17245/4266505217.py:2: UserWarning: pandas only supports SQLAlchemy connectable (engine/connection) or database string URI or sqlite3 DBAPI2 connection. Other DBAPI2 objects are not tested. Please consider using SQLAlchemy.\n",
      "  df_jobs= pd.read_sql_query(\"SELECT * FROM jobs;\", con)\n"
     ]
    },
    {
     "data": {
      "text/html": [
       "<div>\n",
       "<style scoped>\n",
       "    .dataframe tbody tr th:only-of-type {\n",
       "        vertical-align: middle;\n",
       "    }\n",
       "\n",
       "    .dataframe tbody tr th {\n",
       "        vertical-align: top;\n",
       "    }\n",
       "\n",
       "    .dataframe thead th {\n",
       "        text-align: right;\n",
       "    }\n",
       "</style>\n",
       "<table border=\"1\" class=\"dataframe\">\n",
       "  <thead>\n",
       "    <tr style=\"text-align: right;\">\n",
       "      <th></th>\n",
       "      <th>id</th>\n",
       "      <th>title</th>\n",
       "      <th>job_id</th>\n",
       "      <th>date_posted</th>\n",
       "      <th>url</th>\n",
       "      <th>company</th>\n",
       "      <th>location</th>\n",
       "      <th>area</th>\n",
       "      <th>longitude</th>\n",
       "      <th>latitude</th>\n",
       "      <th>description</th>\n",
       "    </tr>\n",
       "  </thead>\n",
       "  <tbody>\n",
       "    <tr>\n",
       "      <th>0</th>\n",
       "      <td>1</td>\n",
       "      <td>Data Engineer, Senior</td>\n",
       "      <td>5457546102</td>\n",
       "      <td>2025-10-21</td>\n",
       "      <td>https://www.adzuna.de/details/5457546102?utm_m...</td>\n",
       "      <td>Booz Allen Hamilton</td>\n",
       "      <td>Deutschland</td>\n",
       "      <td>Deutschland</td>\n",
       "      <td>NaN</td>\n",
       "      <td>NaN</td>\n",
       "      <td>Data Engineer, Senior\\nThe Opportunity:\\nAs a ...</td>\n",
       "    </tr>\n",
       "    <tr>\n",
       "      <th>1</th>\n",
       "      <td>2</td>\n",
       "      <td>Praktikant Environment, Health &amp; Safety (m/w/d)</td>\n",
       "      <td>5457544414</td>\n",
       "      <td>2025-10-21</td>\n",
       "      <td>https://www.adzuna.de/details/5457544414?utm_m...</td>\n",
       "      <td>Magna International</td>\n",
       "      <td>Dennheritz, Zwickau (Kreis)</td>\n",
       "      <td>Deutschland</td>\n",
       "      <td>12.460630</td>\n",
       "      <td>50.815480</td>\n",
       "      <td>What we offer:\\nAt Magna, you can expect an en...</td>\n",
       "    </tr>\n",
       "    <tr>\n",
       "      <th>2</th>\n",
       "      <td>3</td>\n",
       "      <td>Intern - Data analytics in real estate investm...</td>\n",
       "      <td>5456453332</td>\n",
       "      <td>2025-10-20</td>\n",
       "      <td>https://www.adzuna.de/details/5456453332?utm_m...</td>\n",
       "      <td>PIMCO Prime Real Estate GmbH</td>\n",
       "      <td>Altstadt-Lehel, München</td>\n",
       "      <td>Deutschland</td>\n",
       "      <td>11.569070</td>\n",
       "      <td>48.140930</td>\n",
       "      <td>Intern - Data analytics in real estate investm...</td>\n",
       "    </tr>\n",
       "    <tr>\n",
       "      <th>3</th>\n",
       "      <td>4</td>\n",
       "      <td>Data Science Intern (m/f/d)</td>\n",
       "      <td>5455777353</td>\n",
       "      <td>2025-10-20</td>\n",
       "      <td>https://www.adzuna.de/details/5455777353?utm_m...</td>\n",
       "      <td>C&amp;A Mode GmbH &amp; Co. KG</td>\n",
       "      <td>Derendorf, Düsseldorf</td>\n",
       "      <td>Deutschland</td>\n",
       "      <td>6.786820</td>\n",
       "      <td>51.243970</td>\n",
       "      <td>THE FUTURE LOOKS LIKE YOU\\nWith over 1,300 sto...</td>\n",
       "    </tr>\n",
       "    <tr>\n",
       "      <th>4</th>\n",
       "      <td>5</td>\n",
       "      <td>Intern Data Management (all genders welcome)</td>\n",
       "      <td>5455755593</td>\n",
       "      <td>2025-10-20</td>\n",
       "      <td>https://www.adzuna.de/details/5455755593?utm_m...</td>\n",
       "      <td>Kia Connect</td>\n",
       "      <td>Frankfurt am Main, Hessen</td>\n",
       "      <td>Deutschland</td>\n",
       "      <td>8.650578</td>\n",
       "      <td>50.129683</td>\n",
       "      <td>Join the movement and find new inspiration.\\nW...</td>\n",
       "    </tr>\n",
       "  </tbody>\n",
       "</table>\n",
       "</div>"
      ],
      "text/plain": [
       "   id                                              title      job_id  \\\n",
       "0   1                              Data Engineer, Senior  5457546102   \n",
       "1   2    Praktikant Environment, Health & Safety (m/w/d)  5457544414   \n",
       "2   3  Intern - Data analytics in real estate investm...  5456453332   \n",
       "3   4                        Data Science Intern (m/f/d)  5455777353   \n",
       "4   5       Intern Data Management (all genders welcome)  5455755593   \n",
       "\n",
       "  date_posted                                                url  \\\n",
       "0  2025-10-21  https://www.adzuna.de/details/5457546102?utm_m...   \n",
       "1  2025-10-21  https://www.adzuna.de/details/5457544414?utm_m...   \n",
       "2  2025-10-20  https://www.adzuna.de/details/5456453332?utm_m...   \n",
       "3  2025-10-20  https://www.adzuna.de/details/5455777353?utm_m...   \n",
       "4  2025-10-20  https://www.adzuna.de/details/5455755593?utm_m...   \n",
       "\n",
       "                        company                     location         area  \\\n",
       "0           Booz Allen Hamilton                  Deutschland  Deutschland   \n",
       "1           Magna International  Dennheritz, Zwickau (Kreis)  Deutschland   \n",
       "2  PIMCO Prime Real Estate GmbH      Altstadt-Lehel, München  Deutschland   \n",
       "3        C&A Mode GmbH & Co. KG        Derendorf, Düsseldorf  Deutschland   \n",
       "4                   Kia Connect    Frankfurt am Main, Hessen  Deutschland   \n",
       "\n",
       "   longitude   latitude                                        description  \n",
       "0        NaN        NaN  Data Engineer, Senior\\nThe Opportunity:\\nAs a ...  \n",
       "1  12.460630  50.815480  What we offer:\\nAt Magna, you can expect an en...  \n",
       "2  11.569070  48.140930  Intern - Data analytics in real estate investm...  \n",
       "3   6.786820  51.243970  THE FUTURE LOOKS LIKE YOU\\nWith over 1,300 sto...  \n",
       "4   8.650578  50.129683  Join the movement and find new inspiration.\\nW...  "
      ]
     },
     "execution_count": 9,
     "metadata": {},
     "output_type": "execute_result"
    }
   ],
   "source": [
    "con= connect_to_db()[0]\n",
    "df_jobs= pd.read_sql_query(\"SELECT * FROM jobs;\", con)\n",
    "df_jobs.head()"
   ]
  },
  {
   "cell_type": "markdown",
   "id": "f1328713",
   "metadata": {},
   "source": [
    "Getting the number of mentions per skill and ranking them from the most mentioned to the least mentioned."
   ]
  },
  {
   "cell_type": "code",
   "execution_count": 10,
   "id": "139f04b4",
   "metadata": {},
   "outputs": [
    {
     "name": "stderr",
     "output_type": "stream",
     "text": [
      "/var/folders/n4/q2b10gpj67vbtksnhf6prgv00000gn/T/ipykernel_17245/157639332.py:1: UserWarning: pandas only supports SQLAlchemy connectable (engine/connection) or database string URI or sqlite3 DBAPI2 connection. Other DBAPI2 objects are not tested. Please consider using SQLAlchemy.\n",
      "  df_skills= pd.read_sql_query(\"SELECT skill, COUNT(skill) as count FROM skills group by skill ORDER BY count DESC LIMIT 10;\", con)\n"
     ]
    },
    {
     "data": {
      "text/html": [
       "<div>\n",
       "<style scoped>\n",
       "    .dataframe tbody tr th:only-of-type {\n",
       "        vertical-align: middle;\n",
       "    }\n",
       "\n",
       "    .dataframe tbody tr th {\n",
       "        vertical-align: top;\n",
       "    }\n",
       "\n",
       "    .dataframe thead th {\n",
       "        text-align: right;\n",
       "    }\n",
       "</style>\n",
       "<table border=\"1\" class=\"dataframe\">\n",
       "  <thead>\n",
       "    <tr style=\"text-align: right;\">\n",
       "      <th></th>\n",
       "      <th>skill</th>\n",
       "      <th>count</th>\n",
       "    </tr>\n",
       "  </thead>\n",
       "  <tbody>\n",
       "    <tr>\n",
       "      <th>0</th>\n",
       "      <td>Data Analysis</td>\n",
       "      <td>24</td>\n",
       "    </tr>\n",
       "    <tr>\n",
       "      <th>1</th>\n",
       "      <td>Python</td>\n",
       "      <td>22</td>\n",
       "    </tr>\n",
       "    <tr>\n",
       "      <th>2</th>\n",
       "      <td>R</td>\n",
       "      <td>22</td>\n",
       "    </tr>\n",
       "    <tr>\n",
       "      <th>3</th>\n",
       "      <td>AI</td>\n",
       "      <td>16</td>\n",
       "    </tr>\n",
       "    <tr>\n",
       "      <th>4</th>\n",
       "      <td>Power BI</td>\n",
       "      <td>15</td>\n",
       "    </tr>\n",
       "    <tr>\n",
       "      <th>5</th>\n",
       "      <td>SQL</td>\n",
       "      <td>13</td>\n",
       "    </tr>\n",
       "    <tr>\n",
       "      <th>6</th>\n",
       "      <td>Machine Learning</td>\n",
       "      <td>13</td>\n",
       "    </tr>\n",
       "    <tr>\n",
       "      <th>7</th>\n",
       "      <td>Azure</td>\n",
       "      <td>10</td>\n",
       "    </tr>\n",
       "    <tr>\n",
       "      <th>8</th>\n",
       "      <td>Git</td>\n",
       "      <td>7</td>\n",
       "    </tr>\n",
       "    <tr>\n",
       "      <th>9</th>\n",
       "      <td>Excel</td>\n",
       "      <td>6</td>\n",
       "    </tr>\n",
       "  </tbody>\n",
       "</table>\n",
       "</div>"
      ],
      "text/plain": [
       "              skill  count\n",
       "0     Data Analysis     24\n",
       "1            Python     22\n",
       "2                 R     22\n",
       "3                AI     16\n",
       "4          Power BI     15\n",
       "5               SQL     13\n",
       "6  Machine Learning     13\n",
       "7             Azure     10\n",
       "8               Git      7\n",
       "9             Excel      6"
      ]
     },
     "execution_count": 10,
     "metadata": {},
     "output_type": "execute_result"
    }
   ],
   "source": [
    "df_skills= pd.read_sql_query(\"SELECT skill, COUNT(skill) as count FROM skills group by skill ORDER BY count DESC LIMIT 10;\", con)\n",
    "df_skills.head(10)"
   ]
  },
  {
   "cell_type": "markdown",
   "id": "3ad0b51c",
   "metadata": {},
   "source": [
    "Visualizing the top 10 in-demand skills for data internships in Germany"
   ]
  },
  {
   "cell_type": "code",
   "execution_count": null,
   "id": "2e2e2b1d",
   "metadata": {},
   "outputs": [
    {
     "name": "stderr",
     "output_type": "stream",
     "text": [
      "/var/folders/n4/q2b10gpj67vbtksnhf6prgv00000gn/T/ipykernel_17245/3572307573.py:2: FutureWarning: \n",
      "\n",
      "Passing `palette` without assigning `hue` is deprecated and will be removed in v0.14.0. Assign the `x` variable to `hue` and set `legend=False` for the same effect.\n",
      "\n",
      "  ax= sns.barplot(data=df_skills, x='skill', y='count', palette='viridis')\n"
     ]
    },
    {
     "data": {
      "image/png": "[encoded data removed]",
      "text/plain": [
       "<Figure size 1200x600 with 1 Axes>"
      ]
     },
     "metadata": {},
     "output_type": "display_data"
    }
   ],
   "source": [
    "\n",
    "plt.figure(figsize=(12, 6))\n",
    "ax= sns.barplot(data=df_skills, x='skill', y='count', palette='viridis')\n",
    "ax.set_title('Top 10 In-Demand Skills for Data Internships in Germany')\n",
    "ax.set_xlabel('Skill')\n",
    "ax.set_ylabel('Count')\n",
    "for container in ax.containers:\n",
    "    ax.bar_label(container, fmt='%d', label_type='edge', padding=3)\n",
    "plt.xticks(rotation=45, ha='right')\n",
    "plt.tight_layout()\n",
    "plt.show()"
   ]
  },
  {
   "cell_type": "markdown",
   "id": "bf22200b",
   "metadata": {},
   "source": [
    "Getting the companies with the most job postings"
   ]
  },
  {
   "cell_type": "code",
   "execution_count": null,
   "id": "2329a8bd",
   "metadata": {},
   "outputs": [
    {
     "name": "stderr",
     "output_type": "stream",
     "text": [
      "/var/folders/n4/q2b10gpj67vbtksnhf6prgv00000gn/T/ipykernel_17245/1309721595.py:1: UserWarning: pandas only supports SQLAlchemy connectable (engine/connection) or database string URI or sqlite3 DBAPI2 connection. Other DBAPI2 objects are not tested. Please consider using SQLAlchemy.\n",
      "  df_companies= pd.read_sql_query(\"SELECT company, COUNT(company) as count FROM jobs group by company ORDER BY count DESC LIMIT 9;\", con)\n"
     ]
    },
    {
     "data": {
      "text/html": [
       "<div>\n",
       "<style scoped>\n",
       "    .dataframe tbody tr th:only-of-type {\n",
       "        vertical-align: middle;\n",
       "    }\n",
       "\n",
       "    .dataframe tbody tr th {\n",
       "        vertical-align: top;\n",
       "    }\n",
       "\n",
       "    .dataframe thead th {\n",
       "        text-align: right;\n",
       "    }\n",
       "</style>\n",
       "<table border=\"1\" class=\"dataframe\">\n",
       "  <thead>\n",
       "    <tr style=\"text-align: right;\">\n",
       "      <th></th>\n",
       "      <th>company</th>\n",
       "      <th>count</th>\n",
       "    </tr>\n",
       "  </thead>\n",
       "  <tbody>\n",
       "    <tr>\n",
       "      <th>0</th>\n",
       "      <td>Cook Group</td>\n",
       "      <td>6</td>\n",
       "    </tr>\n",
       "    <tr>\n",
       "      <th>1</th>\n",
       "      <td>Magna International</td>\n",
       "      <td>3</td>\n",
       "    </tr>\n",
       "    <tr>\n",
       "      <th>2</th>\n",
       "      <td>Procter &amp; Gamble</td>\n",
       "      <td>3</td>\n",
       "    </tr>\n",
       "    <tr>\n",
       "      <th>3</th>\n",
       "      <td>Magna International, Inc</td>\n",
       "      <td>3</td>\n",
       "    </tr>\n",
       "    <tr>\n",
       "      <th>4</th>\n",
       "      <td>Deichmann SE</td>\n",
       "      <td>3</td>\n",
       "    </tr>\n",
       "    <tr>\n",
       "      <th>5</th>\n",
       "      <td>Inter Data Systems GmbH</td>\n",
       "      <td>2</td>\n",
       "    </tr>\n",
       "    <tr>\n",
       "      <th>6</th>\n",
       "      <td>bei The Quality Group</td>\n",
       "      <td>2</td>\n",
       "    </tr>\n",
       "    <tr>\n",
       "      <th>7</th>\n",
       "      <td>PAUL HARTMANN AG</td>\n",
       "      <td>2</td>\n",
       "    </tr>\n",
       "    <tr>\n",
       "      <th>8</th>\n",
       "      <td>Mondelez International</td>\n",
       "      <td>2</td>\n",
       "    </tr>\n",
       "  </tbody>\n",
       "</table>\n",
       "</div>"
      ],
      "text/plain": [
       "                    company  count\n",
       "0                Cook Group      6\n",
       "1       Magna International      3\n",
       "2          Procter & Gamble      3\n",
       "3  Magna International, Inc      3\n",
       "4              Deichmann SE      3\n",
       "5   Inter Data Systems GmbH      2\n",
       "6     bei The Quality Group      2\n",
       "7          PAUL HARTMANN AG      2\n",
       "8    Mondelez International      2"
      ]
     },
     "execution_count": 19,
     "metadata": {},
     "output_type": "execute_result"
    }
   ],
   "source": [
    "\n",
    "df_companies= pd.read_sql_query(\"SELECT company, COUNT(company) as count FROM jobs group by company ORDER BY count DESC LIMIT 9;\", con)\n",
    "df_companies.head(10)\n"
   ]
  },
  {
   "cell_type": "markdown",
   "id": "3fc9ae52",
   "metadata": {},
   "source": [
    "Visualising the top companies eith the most job postings."
   ]
  },
  {
   "cell_type": "code",
   "execution_count": 26,
   "id": "57166dd1",
   "metadata": {},
   "outputs": [
    {
     "name": "stderr",
     "output_type": "stream",
     "text": [
      "/var/folders/n4/q2b10gpj67vbtksnhf6prgv00000gn/T/ipykernel_17245/149377804.py:2: FutureWarning: \n",
      "\n",
      "Passing `palette` without assigning `hue` is deprecated and will be removed in v0.14.0. Assign the `x` variable to `hue` and set `legend=False` for the same effect.\n",
      "\n",
      "  ax= sns.barplot(data=df_companies, x='company', y='count', palette='magma')\n"
     ]
    },
    {
     "data": {
      "image/png": "[encoded data removed]",
      "text/plain": [
       "<Figure size 1200x600 with 1 Axes>"
      ]
     },
     "metadata": {},
     "output_type": "display_data"
    }
   ],
   "source": [
    "plt.figure(figsize=(12, 6))\n",
    "ax= sns.barplot(data=df_companies, x='company', y='count', palette='magma')\n",
    "ax.set_title('Top 10 Companies Offering Data Internships in Germany')\n",
    "ax.set_xlabel('Company')\n",
    "ax.set_ylabel('Count')\n",
    "for container in ax.containers:\n",
    "    ax.bar_label(container, fmt='%d', label_type='edge', padding=3)\n",
    "plt.xticks(rotation=45, ha='right')\n",
    "plt.tight_layout()\n",
    "plt.show()"
   ]
  },
  {
   "cell_type": "code",
   "execution_count": 43,
   "id": "b629631d",
   "metadata": {},
   "outputs": [
    {
     "name": "stderr",
     "output_type": "stream",
     "text": [
      "/var/folders/n4/q2b10gpj67vbtksnhf6prgv00000gn/T/ipykernel_17245/3632986296.py:1: UserWarning: pandas only supports SQLAlchemy connectable (engine/connection) or database string URI or sqlite3 DBAPI2 connection. Other DBAPI2 objects are not tested. Please consider using SQLAlchemy.\n",
      "  df_skill_count=pd.read_sql('SELECT ROUND(AVG(sum))::int as avg_number_of_skills from (SELECT COUNT(skill) as sum, job_id FROM skills GROUP BY job_id);', con)\n"
     ]
    },
    {
     "data": {
      "text/html": [
       "<div>\n",
       "<style scoped>\n",
       "    .dataframe tbody tr th:only-of-type {\n",
       "        vertical-align: middle;\n",
       "    }\n",
       "\n",
       "    .dataframe tbody tr th {\n",
       "        vertical-align: top;\n",
       "    }\n",
       "\n",
       "    .dataframe thead th {\n",
       "        text-align: right;\n",
       "    }\n",
       "</style>\n",
       "<table border=\"1\" class=\"dataframe\">\n",
       "  <thead>\n",
       "    <tr style=\"text-align: right;\">\n",
       "      <th></th>\n",
       "      <th>avg_number_of_skills</th>\n",
       "    </tr>\n",
       "  </thead>\n",
       "  <tbody>\n",
       "    <tr>\n",
       "      <th>0</th>\n",
       "      <td>6</td>\n",
       "    </tr>\n",
       "  </tbody>\n",
       "</table>\n",
       "</div>"
      ],
      "text/plain": [
       "   avg_number_of_skills\n",
       "0                     6"
      ]
     },
     "execution_count": 43,
     "metadata": {},
     "output_type": "execute_result"
    }
   ],
   "source": [
    "df_skill_count=pd.read_sql('SELECT ROUND(AVG(sum))::int as avg_number_of_skills from (SELECT COUNT(skill) as sum, job_id FROM skills GROUP BY job_id);', con)\n",
    "df_skill_count.head()"
   ]
  }
 ],
 "metadata": {
  "kernelspec": {
   "display_name": "JobSearchProject (.venv)",
   "language": "python",
   "name": "jobsearch-venv"
  },
  "language_info": {
   "codemirror_mode": {
    "name": "ipython",
    "version": 3
   },
   "file_extension": ".py",
   "mimetype": "text/x-python",
   "name": "python",
   "nbconvert_exporter": "python",
   "pygments_lexer": "ipython3",
   "version": "3.12.8"
  }
 },
 "nbformat": 4,
 "nbformat_minor": 5
}
